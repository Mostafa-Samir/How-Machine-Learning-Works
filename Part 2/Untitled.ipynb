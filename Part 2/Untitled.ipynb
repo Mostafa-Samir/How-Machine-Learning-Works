{
 "cells": [
  {
   "cell_type": "code",
   "execution_count": 3,
   "metadata": {},
   "outputs": [
    {
     "data": {
      "text/plain": [
       "0\n",
       "0    millions buy mp3 players in us one in 10 adult americans - equivalent to 22 ...\n",
       "1    strong demand triggers oil rally crude oil prices surged back above the $47 ...\n",
       "2    philippoussis doubt over open bid mark philippoussis is almost certain to mi...\n",
       "3    hamm bows out for us women s football legend mia hamm has played her final g...\n",
       "4    casual gaming to  take off  games aimed at  casual players  are set to be ev...\n",
       "Name: 1, dtype: object"
      ]
     },
     "execution_count": 3,
     "metadata": {},
     "output_type": "execute_result"
    }
   ],
   "source": [
    "import pandas as pd\n",
    "\n",
    "five_news = pd.read_csv(\"../datasets/5-news.csv\", header=None, index_col=0, squeeze=True)\n",
    "\n",
    "# we use this to display longer parts of the text in the output (default = 50)\n",
    "pd.options.display.max_colwidth = 80\n",
    "\n",
    "five_news"
   ]
  },
  {
   "cell_type": "code",
   "execution_count": 15,
   "metadata": {},
   "outputs": [
    {
     "data": {
      "text/plain": [
       "{(0, 1): 1.251311970821431,\n",
       " (0, 2): 1.2227044363088475,\n",
       " (0, 3): 1.1888955932689487,\n",
       " (0, 4): 1.1431778423328116,\n",
       " (1, 2): 1.2356534283103375,\n",
       " (1, 3): 1.210368904750694,\n",
       " (1, 4): 1.2259265237721497,\n",
       " (2, 3): 1.1390894725139964,\n",
       " (2, 4): 1.1767165859035005,\n",
       " (3, 4): 1.1630208052827862}"
      ]
     },
     "execution_count": 15,
     "metadata": {},
     "output_type": "execute_result"
    }
   ],
   "source": [
    "from utils import get_pairwise_euclidean_distances\n",
    "\n",
    "pairwise_distances = get_pairwise_euclidean_distances(five_news)\n",
    "pairwise_distances"
   ]
  },
  {
   "cell_type": "code",
   "execution_count": null,
   "metadata": {},
   "outputs": [],
   "source": []
  }
 ],
 "metadata": {
  "kernelspec": {
   "display_name": "Python 3",
   "language": "python",
   "name": "python3"
  },
  "language_info": {
   "codemirror_mode": {
    "name": "ipython",
    "version": 3
   },
   "file_extension": ".py",
   "mimetype": "text/x-python",
   "name": "python",
   "nbconvert_exporter": "python",
   "pygments_lexer": "ipython3",
   "version": "3.7.3"
  }
 },
 "nbformat": 4,
 "nbformat_minor": 2
}
